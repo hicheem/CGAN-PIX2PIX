{
  "cells": [
    {
      "cell_type": "code",
      "execution_count": null,
      "id": "dfa30424",
      "metadata": {
        "ExecuteTime": {
          "end_time": "2021-10-16T15:21:05.173012Z",
          "start_time": "2021-10-16T15:21:05.162763Z"
        },
        "id": "dfa30424"
      },
      "outputs": [],
      "source": [
        "import matplotlib.pyplot as plt\n",
        "import os\n",
        "import numpy as np\n",
        "import cv2\n",
        "import tensorflow as tf"
      ]
    },
    {
      "cell_type": "code",
      "execution_count": null,
      "id": "7fc75012",
      "metadata": {
        "ExecuteTime": {
          "end_time": "2021-10-16T15:30:32.799427Z",
          "start_time": "2021-10-16T15:30:31.889957Z"
        },
        "id": "7fc75012"
      },
      "outputs": [],
      "source": [
        "from __future__ import print_function, division\n",
        "\n",
        "from keras.layers import Input, Dense, Reshape, Flatten, Dropout, Concatenate\n",
        "from keras.layers import BatchNormalization, Activation, ZeroPadding2D\n",
        "from keras.layers.advanced_activations import LeakyReLU\n",
        "from keras.layers.convolutional import UpSampling2D, Conv2D\n",
        "from keras.models import Sequential, Model\n",
        "from tensorflow.keras.optimizers import Adam\n",
        "from keras.models import model_from_json\n",
        "import datetime\n",
        "import matplotlib.pyplot as plt\n",
        "import sys\n",
        "from data_loader import DataLoader\n",
        "import numpy as np\n",
        "import os\n"
      ]
    },
    {
      "cell_type": "code",
      "execution_count": null,
      "id": "WATrYvyOMZzO",
      "metadata": {
        "id": "WATrYvyOMZzO"
      },
      "outputs": [],
      "source": [
        "class Pix2Pix():\n",
        "    def __init__(self):\n",
        "        # Input shape\n",
        "        self.img_rows = 256\n",
        "        self.img_cols = 256\n",
        "        self.channels = 3\n",
        "        self.img_shape = (self.img_rows, self.img_cols, self.channels) #shape of input image (in that case an RGB image)\n",
        "\n",
        "        # Configure data loader\n",
        "        self.dataset_name = 'DATASET FOLDER'\n",
        "        self.data_loader = DataLoader(dataset_name=self.dataset_name,\n",
        "                                      img_res=(self.img_rows, self.img_cols))\n",
        "        \n",
        "        \n",
        "        # Calculate output shape of D (PatchGAN)\n",
        "        patch = int(self.img_rows / 2**4)\n",
        "        self.disc_patch = (patch, patch, 1)\n",
        "\n",
        "        # Number of filters in the first layer of G and D\n",
        "        self.gf = 64\n",
        "        self.df = 64\n",
        "\n",
        "        optimizer = Adam(0.0002, 0.5)\n",
        "\n",
        "        # Build and compile the discriminator\n",
        "        self.discriminator = self.build_discriminator()\n",
        "        self.discriminator.compile(loss='mse',\n",
        "            optimizer=optimizer,\n",
        "            metrics=['accuracy'])\n",
        "\n",
        "        #-------------------------\n",
        "        # Construct Computational\n",
        "        #   Graph of Generator\n",
        "        #-------------------------\n",
        "\n",
        "        # Build the generator\n",
        "        self.generator = self.build_generator()\n",
        "\n",
        "        # Input images and their conditioning images\n",
        "        img_A = Input(shape=(self.img_rows,self.img_cols,1)) #the output image (in that case Gray image channel=1)\n",
        "        img_B = Input(shape=self.img_shape) # the input RGB image\n",
        "\n",
        "        # By conditioning on B generate a fake version of A\n",
        "        fake_A = self.generator(img_B)\n",
        "\n",
        "        # For the combined model we will only train the generator\n",
        "        self.discriminator.trainable = False\n",
        "\n",
        "        # Discriminators determines validity of translated images / condition pairs\n",
        "        \n",
        "       \n",
        "        valid = self.discriminator([fake_A, img_B])\n",
        "\n",
        "        self.combined = Model(inputs=[img_A, img_B], outputs=[valid, fake_A])\n",
        "        self.combined.compile(loss=['mse', 'mae'],\n",
        "                              loss_weights=[1, 100],\n",
        "                              optimizer=optimizer)\n",
        "\n",
        "    def build_generator(self):\n",
        "        \"\"\"U-Net Generator\"\"\"\n",
        "\n",
        "        def conv2d(layer_input, filters, f_size=4, bn=True):\n",
        "            \"\"\"Layers used during downsampling\"\"\"\n",
        "            d = Conv2D(filters, kernel_size=f_size, strides=2, padding='same')(layer_input)\n",
        "            d = LeakyReLU(alpha=0.2)(d)\n",
        "            if bn:\n",
        "                d = BatchNormalization(momentum=0.8)(d)\n",
        "            return d\n",
        "\n",
        "        def deconv2d(layer_input, skip_input, filters, f_size=4, dropout_rate=0):\n",
        "            \"\"\"Layers used during upsampling\"\"\"\n",
        "            u = UpSampling2D(size=2)(layer_input)\n",
        "            u = Conv2D(filters, kernel_size=f_size, strides=1, padding='same', activation='relu')(u)\n",
        "            if dropout_rate:\n",
        "                u = Dropout(dropout_rate)(u)\n",
        "            u = BatchNormalization(momentum=0.8)(u)\n",
        "            u = Concatenate()([u, skip_input])\n",
        "            return u\n",
        "\n",
        "        # Image input\n",
        "        d0 = Input(shape=self.img_shape)\n",
        "\n",
        "        # Downsampling\n",
        "        d1 = conv2d(d0, self.gf, bn=False)\n",
        "        d2 = conv2d(d1, self.gf*2)\n",
        "        d3 = conv2d(d2, self.gf*4)\n",
        "        d4 = conv2d(d3, self.gf*8)\n",
        "        d5 = conv2d(d4, self.gf*8)\n",
        "        d6 = conv2d(d5, self.gf*8)\n",
        "        d7 = conv2d(d6, self.gf*8)\n",
        "\n",
        "        # Upsampling\n",
        "        u1 = deconv2d(d7, d6, self.gf*8)\n",
        "        u2 = deconv2d(u1, d5, self.gf*8)\n",
        "        u3 = deconv2d(u2, d4, self.gf*8)\n",
        "        u4 = deconv2d(u3, d3, self.gf*4)\n",
        "        u5 = deconv2d(u4, d2, self.gf*2)\n",
        "        u6 = deconv2d(u5, d1, self.gf)\n",
        "\n",
        "        u7 = UpSampling2D(size=2)(u6)\n",
        "        output_img = Conv2D(1, kernel_size=4, strides=1, padding='same', activation='tanh')(u7)\n",
        "\n",
        "        return Model(d0, output_img)\n",
        "\n",
        "    def build_discriminator(self):\n",
        "\n",
        "        def d_layer(layer_input, filters, f_size=4, bn=True):\n",
        "            \"\"\"Discriminator layer\"\"\"\n",
        "            d = Conv2D(filters, kernel_size=f_size, strides=2, padding='same')(layer_input)\n",
        "            d = LeakyReLU(alpha=0.2)(d)\n",
        "            if bn:\n",
        "                d = BatchNormalization(momentum=0.8)(d)\n",
        "            return d\n",
        "\n",
        "        img_A = Input(shape=(self.img_rows,self.img_cols,1))\n",
        "        img_B = Input(shape=self.img_shape)\n",
        "        # Concatenate image and conditioning image by channels to produce input\n",
        "        combined_imgs = Concatenate(axis=-1)([img_A, img_B])\n",
        "\n",
        "        d1 = d_layer(combined_imgs, self.df, bn=False)\n",
        "        d2 = d_layer(d1, self.df*2)\n",
        "        d3 = d_layer(d2, self.df*4)\n",
        "        d4 = d_layer(d3, self.df*8)\n",
        "\n",
        "        validity = Conv2D(1, kernel_size=4, strides=1, padding='same')(d4)\n",
        "\n",
        "        return Model([img_A, img_B], validity)\n",
        "\n",
        "    def train(self, epochs, batch_size=1, sample_interval=50):\n",
        "\n",
        "        start_time = datetime.datetime.now()\n",
        "\n",
        "        # Adversarial loss ground truths\n",
        "        valid = np.ones((batch_size,) + self.disc_patch)\n",
        "        fake = np.zeros((batch_size,) + self.disc_patch)\n",
        "\n",
        "        for epoch in range(epochs):\n",
        "            for batch_i, (imgs_A, imgs_B) in enumerate(self.data_loader.load_batch(batch_size)):\n",
        "                            \n",
        "                # ---------------------\n",
        "                #  Train Discriminator\n",
        "                # ---------------------\n",
        "\n",
        "                # Condition on B and generate a translated version\n",
        "                fake_A = self.generator.predict(imgs_B)\n",
        "\n",
        "                # Train the discriminators (original images = real / generated = Fake)\n",
        "                d_loss_real = self.discriminator.train_on_batch([imgs_A, imgs_B], valid)\n",
        "                d_loss_fake = self.discriminator.train_on_batch([fake_A, imgs_B], fake)\n",
        "                d_loss = 0.5 * np.add(d_loss_real, d_loss_fake)\n",
        "\n",
        "                # -----------------\n",
        "                #  Train Generator\n",
        "                # -----------------\n",
        "\n",
        "                # Train the generators\n",
        "                g_loss = self.combined.train_on_batch([imgs_A, imgs_B], [valid, imgs_A])\n",
        "\n",
        "                elapsed_time = datetime.datetime.now() - start_time\n",
        "                # Plot the progress\n",
        "                print (\"[Epoch %d/%d] [Batch %d/%d] [D loss: %f, acc: %3d%%] [G loss: %f] time: %s\" % (epoch, epochs,\n",
        "                                                                        batch_i, self.data_loader.n_batches,\n",
        "                                                                        d_loss[0], 100*d_loss[1],\n",
        "                                                                        g_loss[0],\n",
        "                                                                        elapsed_time))\n",
        "            \n",
        "                if batch_i % sample_interval == 0:\n",
        "                    self.sample_images(epoch, batch_i)\n",
        "            if (epoch+1) % 10 == 0:\n",
        "                os.makedirs('path/saved_model_folder/' , exist_ok=True)\n",
        "                self.generator.save('path/saved_model_folder/generator_n_' + str(epoch+1) + '.h5' )\n",
        "                # If at save interval => save generated image samples\n",
        "    def sample_images(self, epoch, batch_i):\n",
        "        os.makedirs('some_samples_results/%s' % self.dataset_name, exist_ok=True)\n",
        "        r, c = 3, 3\n",
        "\n",
        "        imgs_A, imgs_B = self.data_loader.load_data(batch_size=3, is_testing=True)\n",
        "        fake_A = self.generator.predict(imgs_B)\n",
        "\n",
        "\n",
        "        # Rescale images 0 - 1\n",
        "        imgs_B = 0.5 * imgs_B + 0.5\n",
        "        imgs_A = 0.5 * imgs_A[:,:,:,0] + 0.5\n",
        "        fake_A = 0.5 * fake_A[:,:,:,0] + 0.5\n",
        "        titles = ['Condition', 'Generated', 'Original']\n",
        "        fig, axs = plt.subplots(r, c)\n",
        "        for i in range(r):\n",
        "            cnt = 0\n",
        "            for j in range(c):\n",
        "                if i ==0:\n",
        "                    temp = imgs_B\n",
        "                    axs[i,j].imshow(temp[cnt])\n",
        "                    axs[i, j].set_title(titles[i])\n",
        "                    axs[i,j].axis('off')\n",
        "                elif i == 1:\n",
        "                    temp = fake_A\n",
        "                    axs[i,j].imshow(temp[cnt], cmap='gray')\n",
        "                    axs[i, j].set_title(titles[i])\n",
        "                    axs[i,j].axis('off')\n",
        "                else:\n",
        "                    temp = imgs_A\n",
        "                    axs[i,j].imshow(temp[cnt], cmap='gray')\n",
        "                    axs[i, j].set_title(titles[i])\n",
        "                    axs[i,j].axis('off')\n",
        "                cnt += 1\n",
        "        fig.savefig(\"some_results/%s/%d_%d.png\" % (self.dataset_name, epoch, batch_i))\n",
        "        plt.close()\n",
        "        "
      ]
    },
    {
      "cell_type": "code",
      "execution_count": null,
      "id": "X1V4uVlmMZzY",
      "metadata": {
        "colab": {
          "base_uri": "https://localhost:8080/"
        },
        "id": "X1V4uVlmMZzY",
        "outputId": "f0bb367d-072c-476e-f7a6-0b39188296fd"
      },
      "outputs": [],
      "source": [
        "if __name__ == '__main__':\n",
        "    gan = Pix2Pix()\n",
        "    gan.train(epochs= 80 , batch_size=2, sample_interval=200)"
      ]
    },
    {
      "attachments": {},
      "cell_type": "markdown",
      "id": "DmeG-ir3aWxo",
      "metadata": {
        "id": "DmeG-ir3aWxo"
      },
      "source": [
        "Load the generator"
      ]
    },
    {
      "cell_type": "code",
      "execution_count": null,
      "id": "2AVtSt3WaVeB",
      "metadata": {
        "id": "2AVtSt3WaVeB"
      },
      "outputs": [],
      "source": [
        "from tensorflow import keras\n",
        "gener = keras.models.load_model('path/saved_model/generator_n_80.h5')"
      ]
    },
    {
      "attachments": {},
      "cell_type": "markdown",
      "id": "u8Vb3l2MMZze",
      "metadata": {
        "id": "u8Vb3l2MMZze"
      },
      "source": [
        "Testing on real photos:"
      ]
    },
    {
      "cell_type": "code",
      "execution_count": null,
      "id": "-jXaYiXpMZzj",
      "metadata": {
        "id": "-jXaYiXpMZzj"
      },
      "outputs": [],
      "source": [
        "photo = plt.imread('path_to_real/photos/photo1.jpg')\n",
        "photo = cv2.resize(photo, (256,256))\n",
        "photo = photo / 127.5 - 1\n",
        "photo = np.expand_dims(photo, axis = 0)"
      ]
    },
    {
      "cell_type": "code",
      "execution_count": null,
      "id": "XjH3q7EVMZzm",
      "metadata": {
        "id": "XjH3q7EVMZzm"
      },
      "outputs": [],
      "source": [
        "fake_sketch = gan.generator.predict(photo)"
      ]
    },
    {
      "cell_type": "code",
      "execution_count": null,
      "id": "RWzdlzM2MZzn",
      "metadata": {
        "id": "RWzdlzM2MZzn"
      },
      "outputs": [],
      "source": [
        "fake_sketch = 0.5 * fake_sketch[0] + 0.5 \n"
      ]
    },
    {
      "cell_type": "code",
      "execution_count": null,
      "id": "sgfaQkBhXlJX",
      "metadata": {
        "id": "sgfaQkBhXlJX"
      },
      "outputs": [],
      "source": [
        "fake_sketch = fake_sketch[:,:,0]"
      ]
    },
    {
      "cell_type": "code",
      "execution_count": null,
      "id": "wQR98s4pXZ35",
      "metadata": {
        "colab": {
          "base_uri": "https://localhost:8080/",
          "height": 286
        },
        "id": "wQR98s4pXZ35",
        "outputId": "5e4ad0cc-6bd0-433e-d465-d143a35750c8"
      },
      "outputs": [],
      "source": [
        "plt.imshow(fake_sketch, cmap = 'gray')"
      ]
    }
  ],
  "metadata": {
    "accelerator": "GPU",
    "colab": {
      "provenance": []
    },
    "interpreter": {
      "hash": "3dbc12abc5c8e86958320db01a785e7b3d443c07dabf63940481bc5cb7b85aa3"
    },
    "kernelspec": {
      "display_name": "Python 3.9.7 64-bit",
      "name": "python3"
    },
    "language_info": {
      "codemirror_mode": {
        "name": "ipython",
        "version": 3
      },
      "file_extension": ".py",
      "mimetype": "text/x-python",
      "name": "python",
      "nbconvert_exporter": "python",
      "pygments_lexer": "ipython3",
      "version": "3.9.7"
    }
  },
  "nbformat": 4,
  "nbformat_minor": 5
}
